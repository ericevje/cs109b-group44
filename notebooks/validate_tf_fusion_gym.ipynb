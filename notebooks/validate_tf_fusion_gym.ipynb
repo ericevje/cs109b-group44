{
 "cells": [
  {
   "cell_type": "code",
   "execution_count": 240,
   "metadata": {},
   "outputs": [],
   "source": [
    "import fusion_gym_environment\n",
    "import fusion_gym.fusion_env_wrapper \n",
    "\n",
    "import importlib\n",
    "import os \n",
    "import sys\n",
    "import uuid\n",
    "\n",
    "from tf_agents.environments import utils\n",
    "\n",
    "import numpy as np\n",
    "\n",
    "importlib.reload(fusion_gym_environment)\n",
    "importlib.reload(fusion_gym.fusion_env_wrapper)\n",
    "\n",
    "##############################\n",
    "##### Fusion gym imports #####\n",
    "##############################\n",
    "\n",
    "# Add the client folder to sys.path\n",
    "CLIENT_DIR = os.path.join(\"..\", \"tools\", \"fusion360gym\", \"client\")\n",
    "if CLIENT_DIR not in sys.path:\n",
    "    sys.path.append(CLIENT_DIR)\n",
    "\n",
    "from gym_env import GymEnv"
   ]
  },
  {
   "cell_type": "code",
   "execution_count": 241,
   "metadata": {},
   "outputs": [],
   "source": [
    "action = fusion_gym_environment.ExtrudeAction(\n",
    "    uuid.UUID(face1),\n",
    "    uuid.UUID(face2),\n",
    "    fusion_gym_environment.Operation.CutFeatureOperation\n",
    ")\n",
    "\n",
    "encoded = action.encode()\n",
    "decoded = fusion_gym_environment.ExtrudeAction.decode(encoded)\n",
    "assert decoded == action"
   ]
  },
  {
   "cell_type": "code",
   "execution_count": 242,
   "metadata": {},
   "outputs": [],
   "source": [
    "# Setup Gym client\n",
    "gym_env = FusionEnvWrapper(host=\"127.0.0.1\", port=8080, launch_gym=False)"
   ]
  },
  {
   "cell_type": "code",
   "execution_count": 243,
   "metadata": {},
   "outputs": [
    {
     "name": "stdout",
     "output_type": "stream",
     "text": [
      "step: State(step=1, finished=False)\n",
      "step: State(step=2, finished=False)\n",
      "step: State(step=3, finished=False)\n",
      "step: State(step=4, finished=False)\n",
      "step: State(step=5, finished=False)\n",
      "step: State(step=6, finished=True)\n",
      "step: State(step=1, finished=False)\n",
      "step: State(step=2, finished=False)\n",
      "step: State(step=3, finished=False)\n",
      "step: State(step=4, finished=False)\n",
      "step: State(step=5, finished=False)\n",
      "step: State(step=6, finished=True)\n",
      "step: State(step=1, finished=False)\n",
      "step: State(step=2, finished=False)\n",
      "step: State(step=3, finished=False)\n",
      "step: State(step=4, finished=False)\n",
      "step: State(step=5, finished=False)\n",
      "step: State(step=6, finished=True)\n",
      "step: State(step=1, finished=False)\n",
      "step: State(step=2, finished=False)\n",
      "step: State(step=3, finished=False)\n",
      "step: State(step=4, finished=False)\n",
      "step: State(step=5, finished=False)\n",
      "step: State(step=6, finished=True)\n",
      "step: State(step=1, finished=False)\n",
      "step: State(step=2, finished=False)\n",
      "step: State(step=3, finished=False)\n",
      "step: State(step=4, finished=False)\n",
      "step: State(step=5, finished=False)\n",
      "step: State(step=6, finished=True)\n"
     ]
    }
   ],
   "source": [
    "environment = fusion_gym_environment.FusionGymEnvironment(gym_env, 5)\n",
    "utils.validate_py_environment(environment, episodes=5)"
   ]
  },
  {
   "cell_type": "code",
   "execution_count": 101,
   "metadata": {},
   "outputs": [],
   "source": [
    "import json\n",
    "import os\n",
    "from pathlib import Path\n",
    "from typing import List\n",
    "\n",
    "def get_files(input_dir: str, split_file: str = None) -> List[str]:\n",
    "    \"\"\" Get list of .smt files from the target directory \n",
    "    input_dir -- the directory input files\n",
    "    split -- the path of the test file\n",
    "    \"\"\"\n",
    "    input_dir = Path(os.path.expanduser(input_dir))\n",
    "    \n",
    "    if not input_dir.exists():\n",
    "        print(\"Input file/folder does not exist\")\n",
    "        return []\n",
    "        \n",
    "    test_files = None\n",
    "    if split_file is not None:\n",
    "        split_file = Path(os.path.expanduser(split_file))\n",
    "        if not split_file.exists():\n",
    "            print(\"Split file does not exists\")\n",
    "        else:\n",
    "            with open(split_file, encoding=\"utf8\") as f:\n",
    "                json_data = json.load(f)\n",
    "                if \"test\" not in json_data:\n",
    "                    print(\"Split file does not have a test set\")\n",
    "                else:\n",
    "                    test_files = set()\n",
    "                    for test_file in json_data[\"test\"]:\n",
    "                        test_files.add(f\"{test_file}.smt\")\n",
    "\n",
    "    files = []\n",
    "    if input_dir.is_dir():\n",
    "        smt_files = [f for f in input_dir.glob(\"**/*.smt\")]\n",
    "        if len(smt_files) == 0:\n",
    "            print(\"No .smt files found\")\n",
    "            exit()\n",
    "        else:\n",
    "            # We store an index with the file for debug output\n",
    "            for smt_file in smt_files:\n",
    "                if test_files is None:\n",
    "                    # If we don't have a split\n",
    "                    # use all files\n",
    "                    files.append(smt_file)\n",
    "                else:\n",
    "                    # If we have a split\n",
    "                    # use only the test files\n",
    "                    if smt_file.name in test_files:\n",
    "                        files.append(smt_file)\n",
    "    else:\n",
    "        files.append(input)\n",
    "    return files"
   ]
  },
  {
   "cell_type": "code",
   "execution_count": 95,
   "metadata": {},
   "outputs": [],
   "source": [
    "INPUT_DIR = \"~/Downloads/r1.0.0/reconstruction/\"\n",
    "input_files = get_files(INPUT_DIR)"
   ]
  },
  {
   "cell_type": "code",
   "execution_count": 141,
   "metadata": {},
   "outputs": [
    {
     "data": {
      "text/plain": [
       "PosixPath('/Users/erikbeerepoot/Downloads/r1.0.0/reconstruction/68475_17ef1725_0000_0035.smt')"
      ]
     },
     "execution_count": 141,
     "metadata": {},
     "output_type": "execute_result"
    }
   ],
   "source": [
    "first_input_file"
   ]
  },
  {
   "cell_type": "code",
   "execution_count": null,
   "metadata": {},
   "outputs": [],
   "source": [
    "first_input_file = input_files[0]\n",
    "gym_env.set_target(first_input_file)"
   ]
  },
  {
   "cell_type": "code",
   "execution_count": 142,
   "metadata": {},
   "outputs": [],
   "source": [
    "face1 = \"850e641c-e309-11ea-ad98-54bf646e7e1f\"\n",
    "face2 = \"850eb246-e309-11ea-a0ba-54bf646e7e1f\""
   ]
  },
  {
   "cell_type": "code",
   "execution_count": 244,
   "metadata": {},
   "outputs": [],
   "source": [
    "action = fusion_gym_environment.ExtrudeAction(\n",
    "    uuid.UUID(face1),\n",
    "    uuid.UUID(face2),\n",
    "    fusion_gym_environment.Operation.CutFeatureOperation\n",
    ")"
   ]
  },
  {
   "cell_type": "code",
   "execution_count": 245,
   "metadata": {},
   "outputs": [
    {
     "name": "stdout",
     "output_type": "stream",
     "text": [
      "step: State(step=1, finished=False)\n",
      "action: ExtrudeAction(start_face=UUID('850e641c-e309-11ea-ad98-54bf646e7e1f'), end_face=UUID('850eb246-e309-11ea-a0ba-54bf646e7e1f'), operation=<Operation.CutFeatureOperation: 2>)\n",
      "Invalid start_face value\n",
      "None\n"
     ]
    },
    {
     "data": {
      "text/plain": [
       "TimeStep(step_type=array(1, dtype=int32), reward=array(0., dtype=float32), discount=array(1., dtype=float32), observation=array([1], dtype=int32))"
      ]
     },
     "execution_count": 245,
     "metadata": {},
     "output_type": "execute_result"
    }
   ],
   "source": [
    "environment.step(action.encode())"
   ]
  }
 ],
 "metadata": {
  "kernelspec": {
   "display_name": "Python 3",
   "language": "python",
   "name": "python3"
  },
  "language_info": {
   "codemirror_mode": {
    "name": "ipython",
    "version": 3
   },
   "file_extension": ".py",
   "mimetype": "text/x-python",
   "name": "python",
   "nbconvert_exporter": "python",
   "pygments_lexer": "ipython3",
   "version": "3.7.3"
  }
 },
 "nbformat": 4,
 "nbformat_minor": 4
}
