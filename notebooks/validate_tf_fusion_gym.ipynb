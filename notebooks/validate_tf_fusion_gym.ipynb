{
 "cells": [
  {
   "cell_type": "code",
   "execution_count": 67,
   "metadata": {},
   "outputs": [],
   "source": [
    "import fusion_gym_environment\n",
    "import importlib\n",
    "import os \n",
    "import sys\n",
    "\n",
    "from tf_agents.environments import utils\n",
    "\n",
    "importlib.reload(fusion_gym_environment)\n",
    "\n",
    "##############################\n",
    "##### Fusion gym imports #####\n",
    "##############################\n",
    "\n",
    "# Add the client folder to sys.path\n",
    "CLIENT_DIR = os.path.join(\"..\", \"tools\", \"fusion360gym\", \"client\")\n",
    "if CLIENT_DIR not in sys.path:\n",
    "    sys.path.append(CLIENT_DIR)\n",
    "\n",
    "from gym_env import GymEnv"
   ]
  },
  {
   "cell_type": "code",
   "execution_count": 49,
   "metadata": {},
   "outputs": [],
   "source": [
    "# Setup Gym cliient\n",
    "gym_env = GymEnv(host=\"127.0.0.1\", port=8080, launch_gym=False)"
   ]
  },
  {
   "cell_type": "code",
   "execution_count": 68,
   "metadata": {},
   "outputs": [
    {
     "name": "stdout",
     "output_type": "stream",
     "text": [
      "step: State(step=1, finished=False)\n",
      "step: State(step=2, finished=False)\n",
      "step: State(step=3, finished=False)\n",
      "step: State(step=4, finished=False)\n",
      "step: State(step=5, finished=False)\n",
      "step: State(step=6, finished=True)\n",
      "step: State(step=1, finished=False)\n",
      "step: State(step=2, finished=False)\n",
      "step: State(step=3, finished=False)\n",
      "step: State(step=4, finished=False)\n",
      "step: State(step=5, finished=False)\n",
      "step: State(step=6, finished=True)\n",
      "step: State(step=1, finished=False)\n",
      "step: State(step=2, finished=False)\n",
      "step: State(step=3, finished=False)\n",
      "step: State(step=4, finished=False)\n",
      "step: State(step=5, finished=False)\n",
      "step: State(step=6, finished=True)\n",
      "step: State(step=1, finished=False)\n",
      "step: State(step=2, finished=False)\n",
      "step: State(step=3, finished=False)\n",
      "step: State(step=4, finished=False)\n",
      "step: State(step=5, finished=False)\n",
      "step: State(step=6, finished=True)\n",
      "step: State(step=1, finished=False)\n",
      "step: State(step=2, finished=False)\n",
      "step: State(step=3, finished=False)\n",
      "step: State(step=4, finished=False)\n",
      "step: State(step=5, finished=False)\n",
      "step: State(step=6, finished=True)\n"
     ]
    }
   ],
   "source": [
    "environment = fusion_gym_environment.FusionGymEnvironment(gym_env, 5)\n",
    "utils.validate_py_environment(environment, episodes=5)"
   ]
  },
  {
   "cell_type": "code",
   "execution_count": 4,
   "metadata": {},
   "outputs": [
    {
     "name": "stdout",
     "output_type": "stream",
     "text": [
      "TimeStep(step_type=array(1, dtype=int32), reward=array(0., dtype=float32), discount=array(1., dtype=float32), observation=array([0], dtype=int32))\n"
     ]
    }
   ],
   "source": [
    "print(environment.step(0))"
   ]
  },
  {
   "cell_type": "code",
   "execution_count": 10,
   "metadata": {},
   "outputs": [],
   "source": [
    "from uuid import uuid4\n",
    "\n",
    "uid = uuid4()"
   ]
  },
  {
   "cell_type": "code",
   "execution_count": 23,
   "metadata": {},
   "outputs": [
    {
     "data": {
      "text/plain": [
       "9795677029545666331"
      ]
     },
     "execution_count": 23,
     "metadata": {},
     "output_type": "execute_result"
    }
   ],
   "source": []
  },
  {
   "cell_type": "code",
   "execution_count": 25,
   "metadata": {},
   "outputs": [
    {
     "data": {
      "text/plain": [
       "8180922308440834613"
      ]
     },
     "execution_count": 25,
     "metadata": {},
     "output_type": "execute_result"
    }
   ],
   "source": []
  },
  {
   "cell_type": "code",
   "execution_count": null,
   "metadata": {},
   "outputs": [],
   "source": [
    "\n",
    "env = ReplEnv(host=\"127.0.0.1\", port=8080, launch_gym=args.launch_gym)"
   ]
  }
 ],
 "metadata": {
  "kernelspec": {
   "display_name": "Python 3",
   "language": "python",
   "name": "python3"
  },
  "language_info": {
   "codemirror_mode": {
    "name": "ipython",
    "version": 3
   },
   "file_extension": ".py",
   "mimetype": "text/x-python",
   "name": "python",
   "nbconvert_exporter": "python",
   "pygments_lexer": "ipython3",
   "version": "3.7.3"
  }
 },
 "nbformat": 4,
 "nbformat_minor": 4
}
