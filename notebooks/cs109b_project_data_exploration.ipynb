{
  "nbformat": 4,
  "nbformat_minor": 0,
  "metadata": {
    "colab": {
      "name": "cs109b-project-data-exploration.ipynb",
      "provenance": [],
      "collapsed_sections": [],
      "toc_visible": true
    },
    "kernelspec": {
      "display_name": "Python 3",
      "name": "python3"
    },
    "language_info": {
      "name": "python"
    }
  },
  "cells": [
    {
      "cell_type": "markdown",
      "metadata": {
        "id": "pCaWC-E4zBlM"
      },
      "source": [
        "## Imports & Setup"
      ]
    },
    {
      "cell_type": "code",
      "metadata": {
        "id": "2snnnJxEwRCX"
      },
      "source": [
        "# DO NOT DELETE THIS CELL\n",
        "# Load useful libraries\n",
        "import numpy as np\n",
        "import pandas as pd\n",
        "import zipfile\n",
        "import os\n",
        "import tqdm\n",
        "import pathlib\n",
        "import sys\n",
        "import time\n",
        "from sklearn.model_selection import train_test_split\n",
        "from sklearn.decomposition import PCA\n",
        "from sklearn.manifold import TSNE\n",
        "\n",
        "# TensorFlow and tf.keras\n",
        "import tensorflow as tf\n",
        "from tensorflow.keras import backend as K\n",
        "from tensorflow.keras import layers\n",
        "from tensorflow.keras import models\n",
        "from tensorflow.keras import losses\n",
        "from tensorflow.keras import optimizers\n",
        "from tensorflow.keras import initializers\n",
        "from tensorflow.keras.metrics import Accuracy\n",
        "\n",
        "# Plotting libraries\n",
        "from matplotlib import pyplot as plt\n",
        "from matplotlib.colors import ListedColormap\n",
        "\n",
        "# utility imports\n",
        "import importlib"
      ],
      "execution_count": 25,
      "outputs": []
    },
    {
      "cell_type": "code",
      "metadata": {
        "colab": {
          "base_uri": "https://localhost:8080/"
        },
        "id": "0T9Inor4wTXM",
        "outputId": "06481777-9219-4819-e03c-5840f1995424"
      },
      "source": [
        "tf.config.experimental.list_physical_devices('GPU')"
      ],
      "execution_count": 26,
      "outputs": [
        {
          "output_type": "execute_result",
          "data": {
            "text/plain": [
              "[]"
            ]
          },
          "metadata": {
            "tags": []
          },
          "execution_count": 26
        }
      ]
    },
    {
      "cell_type": "code",
      "metadata": {
        "colab": {
          "base_uri": "https://localhost:8080/",
          "height": 17
        },
        "id": "YVADoMqfv-eJ",
        "outputId": "d03c4505-184c-44fa-f5a6-d0acbef49cb7"
      },
      "source": [
        "import requests\n",
        "from IPython.core.display import HTML, display\n",
        "styles = requests.get(\"https://raw.githubusercontent.com/Harvard-IACS/2018-CS109A/master/content/styles/cs109.css\").text\n",
        "HTML(styles)"
      ],
      "execution_count": 27,
      "outputs": [
        {
          "output_type": "execute_result",
          "data": {
            "text/html": [
              "<style>\n",
              "blockquote { background: #AEDE94; }\n",
              "h1 { \n",
              "    padding-top: 25px;\n",
              "    padding-bottom: 25px;\n",
              "    text-align: left; \n",
              "    padding-left: 10px;\n",
              "    background-color: #DDDDDD; \n",
              "    color: black;\n",
              "}\n",
              "h2 { \n",
              "    padding-top: 10px;\n",
              "    padding-bottom: 10px;\n",
              "    text-align: left; \n",
              "    padding-left: 5px;\n",
              "    background-color: #EEEEEE; \n",
              "    color: black;\n",
              "}\n",
              "\n",
              "div.exercise {\n",
              "\tbackground-color: #ffcccc;\n",
              "\tborder-color: #E9967A; \t\n",
              "\tborder-left: 5px solid #800080; \n",
              "\tpadding: 0.5em;\n",
              "}\n",
              "\n",
              "div.exercise-r {\n",
              "\tbackground-color: #fce8e8;\n",
              "\tborder-color: #E9967A; \t\n",
              "\tborder-left: 5px solid #800080; \n",
              "\tpadding: 0.5em;\n",
              "}\n",
              "\n",
              "\n",
              "span.sub-q {\n",
              "\tfont-weight: bold;\n",
              "}\n",
              "div.theme {\n",
              "\tbackground-color: #DDDDDD;\n",
              "\tborder-color: #E9967A; \t\n",
              "\tborder-left: 5px solid #800080; \n",
              "\tpadding: 0.5em;\n",
              "\tfont-size: 18pt;\n",
              "}\n",
              "div.gc { \n",
              "\tbackground-color: #AEDE94;\n",
              "\tborder-color: #E9967A; \t \n",
              "\tborder-left: 5px solid #800080; \n",
              "\tpadding: 0.5em;\n",
              "\tfont-size: 12pt;\n",
              "}\n",
              "p.q1 { \n",
              "    padding-top: 5px;\n",
              "    padding-bottom: 5px;\n",
              "    text-align: left; \n",
              "    padding-left: 5px;\n",
              "    background-color: #EEEEEE; \n",
              "    color: black;\n",
              "}\n",
              "header {\n",
              "   padding-top: 35px;\n",
              "    padding-bottom: 35px;\n",
              "    text-align: left; \n",
              "    padding-left: 10px;\n",
              "    background-color: #DDDDDD; \n",
              "    color: black;\n",
              "}\n",
              "</style>\n",
              "\n"
            ],
            "text/plain": [
              "<IPython.core.display.HTML object>"
            ]
          },
          "metadata": {
            "tags": []
          },
          "execution_count": 27
        }
      ]
    },
    {
      "cell_type": "markdown",
      "metadata": {
        "id": "mQFJBAHRzHAu"
      },
      "source": [
        "## Mount Google Drive"
      ]
    },
    {
      "cell_type": "code",
      "metadata": {
        "colab": {
          "base_uri": "https://localhost:8080/"
        },
        "id": "UMDnzo8Bvvub",
        "outputId": "c46da959-10e7-4036-b8a0-90e043a0102a"
      },
      "source": [
        "if 'google.colab' in str(get_ipython()):\n",
        "  # Running in Google Colab.\n",
        "  # 1. Mount drive\n",
        "  from google.colab import drive\n",
        "  drive.mount('/content/drive')\n",
        "\n",
        "  # 2. Install a few dependencies\n",
        "  !pip install --upgrade tensorflow-addons tf_keras_vis\n",
        "\n",
        "  # 3. Make sure we can find the data\n",
        "  data_dir = \"/content/drive/MyDrive/cs109b/project/data/\"\n",
        "else:\n",
        "  # 1. Set the data dir for local development\n",
        "  data_dir = \"data\""
      ],
      "execution_count": 28,
      "outputs": [
        {
          "output_type": "stream",
          "text": [
            "Drive already mounted at /content/drive; to attempt to forcibly remount, call drive.mount(\"/content/drive\", force_remount=True).\n",
            "Requirement already up-to-date: tensorflow-addons in /usr/local/lib/python3.7/dist-packages (0.12.1)\n",
            "Requirement already up-to-date: tf_keras_vis in /usr/local/lib/python3.7/dist-packages (0.5.5)\n",
            "Requirement already satisfied, skipping upgrade: typeguard>=2.7 in /usr/local/lib/python3.7/dist-packages (from tensorflow-addons) (2.7.1)\n",
            "Requirement already satisfied, skipping upgrade: pillow in /usr/local/lib/python3.7/dist-packages (from tf_keras_vis) (7.1.2)\n",
            "Requirement already satisfied, skipping upgrade: imageio in /usr/local/lib/python3.7/dist-packages (from tf_keras_vis) (2.4.1)\n",
            "Requirement already satisfied, skipping upgrade: numpy in /usr/local/lib/python3.7/dist-packages (from tf_keras_vis) (1.19.5)\n",
            "Requirement already satisfied, skipping upgrade: scipy in /usr/local/lib/python3.7/dist-packages (from tf_keras_vis) (1.4.1)\n"
          ],
          "name": "stdout"
        }
      ]
    },
    {
      "cell_type": "markdown",
      "metadata": {
        "id": "tcrZZpkpzTYY"
      },
      "source": [
        "## Dataset & tools download"
      ]
    },
    {
      "cell_type": "code",
      "metadata": {
        "id": "RNML1CxQv7DA"
      },
      "source": [
        "##################################################\n",
        "# Code borrowed from CS109b assignment notebooks #\n",
        "#            (with mild tweaks)                  #\n",
        "##################################################\n",
        "\n",
        "def download_dataset(    \n",
        "    url, \n",
        "    filename,\n",
        "    filepath,\n",
        "    dirname,\n",
        "    dirpath,    \n",
        "    chunk_size=1204,\n",
        "    overwrite=False,\n",
        "):\n",
        "    \"\"\"Downloads and extracts CelebA dataset from CS109B S3 bucket\"\"\"\n",
        "    # Do not download if data already exists and overwrite==False\n",
        "    if not overwrite and os.path.isdir(dirpath):\n",
        "        print(\n",
        "            \"Congratulations...the dataset already exists \"\n",
        "            \"locally!\\nNo new downloads are required :o)\\n\"\n",
        "        )\n",
        "    # Download and extract dataset if it doesn't already exist\n",
        "    else:\n",
        "        print(f\"Downloading dataset to {filepath}\\n\")\n",
        "\n",
        "        with requests.get(url, stream=True) as r:\n",
        "            chunk_size = 1024\n",
        "            length = int(r.headers['content-length'])\n",
        "            print(f\"...downloading a {(length/1e9):.2f} GB file.\"\n",
        "                \"This is going to take a while!\"\n",
        "            )\n",
        "            time.sleep(0.5)\n",
        "            with open(filepath, 'wb') as f:\n",
        "                for chunk in tqdm.tqdm(\n",
        "                    r.iter_content(chunk_size=chunk_size),\n",
        "                    total=int(length/chunk_size),\n",
        "                    unit=\"KB\"\n",
        "                ):\n",
        "                    f.write(chunk)\n",
        "\n",
        "        print(f\"...{filename} download complete :o)\")\n",
        "        if not os.path.isdir(dirpath):\n",
        "            os.makedirs(dirpath)\n",
        "\n",
        "        print(\n",
        "            f\"...extracting {filename}. \\n\"\n",
        "        )\n",
        "\n",
        "        with zipfile.ZipFile(filepath, 'r') as zipobj:\n",
        "            zipobj.extractall(dirpath)\n",
        "\n",
        "        print(f\"The dataset has been extracted to: \\n\\n\\t{dirpath}\\n\")            "
      ],
      "execution_count": 35,
      "outputs": []
    },
    {
      "cell_type": "code",
      "metadata": {
        "colab": {
          "base_uri": "https://localhost:8080/"
        },
        "id": "UIwBZTavw1jy",
        "outputId": "b895026d-6e66-4fc4-84fe-0070c2021fcb"
      },
      "source": [
        "%%time\n",
        "working_dir = pathlib.Path().absolute()\n",
        "os.chdir(working_dir)\n",
        "\n",
        "# dataset params\n",
        "dataset_url = \"https://fusion-360-gallery-dataset.s3-us-west-2.amazonaws.com/reconstruction/r1.0.0/r1.0.0.zip\"\n",
        "filename = \"r1.0.0.zip\"\n",
        "dirname = f\"{data_dir}reconstruction\"\n",
        "dirpath = os.path.join(working_dir, dirname)\n",
        "filepath = os.path.join(working_dir, filename)\n",
        "\n",
        "download_dataset(dataset_url, filename, filepath, data_dir, dirpath)\n",
        "\n",
        "# Final locatioin of the dataset\n",
        "dataset_path = f\"{dirname}/r1.0.0/\"\n",
        "train_test_file = f\"{dataset_path}train_test.json\""
      ],
      "execution_count": 55,
      "outputs": [
        {
          "output_type": "stream",
          "text": [
            "Congratulations...the dataset already exists locally!\n",
            "No new downloads are required :o)\n",
            "\n",
            "CPU times: user 1.04 ms, sys: 0 ns, total: 1.04 ms\n",
            "Wall time: 1.47 ms\n"
          ],
          "name": "stdout"
        }
      ]
    },
    {
      "cell_type": "code",
      "metadata": {
        "id": "22vuRj2mzZSb"
      },
      "source": [
        "def download_file(url: str, filepath: str):\n",
        "  dir = os.path.dirname(filepath)\n",
        "  if not os.path.isdir(dir):\n",
        "      os.makedirs(dir)\n",
        "\n",
        "  with requests.get(url, stream=True) as r:      \n",
        "      with open(filepath, 'wb') as f:\n",
        "        f.write(r.content)\n",
        "\n",
        "tools_path = f\"{data_dir}tools/\"\n",
        "download_file(\n",
        "  \"https://raw.githubusercontent.com/AutodeskAILab/Fusion360GalleryDataset/master/tools/sketch2image/sketch_plotter.py\",\n",
        "  f\"{tools_path}sketch_plotter.py\"\n",
        ")      \n",
        "\n",
        "# Append tools directory to path so we can import from it\n",
        "sys.path.append(os.path.abspath(tools_path))"
      ],
      "execution_count": 37,
      "outputs": []
    },
    {
      "cell_type": "code",
      "metadata": {
        "id": "i8jIMt_qcLOC"
      },
      "source": [
        "def get_sketches(path):\n",
        "  \"\"\" Returns a list of json objects representing sketches\"\"\"\n",
        "  # Load up the data file\n",
        "  with open(metadata_file, 'r') as f:\n",
        "    data_json = json.load(f)\n",
        "  \n",
        "  # The file will contain multiple sketches, so pull the ids ...\n",
        "  entity_ids = list(data_json['entities'].keys())\n",
        "\n",
        "  # not all entities will be sketches, so filter ... \n",
        "  sketch_ids = [id for id in entity_ids if data_json['entities'][id][\"type\"] == \"Sketch\"]\n",
        "\n",
        "  return [data_json['entities'][id] for id in sketch_ids]\n",
        "\n",
        "def draw_sketches(sketches):\n",
        "  \"\"\" Draws the given sketches \"\"\"\n",
        "  for sketch in sketches:\n",
        "    plotter = SketchPlotter(sketch)\n",
        "    try:\n",
        "      plotter.create_drawing()\n",
        "    except KeyError:\n",
        "      continue"
      ],
      "execution_count": 99,
      "outputs": []
    },
    {
      "cell_type": "code",
      "metadata": {
        "colab": {
          "base_uri": "https://localhost:8080/",
          "height": 976
        },
        "id": "aXXboFwlwytK",
        "outputId": "02d1f8af-09c2-414f-9a58-c5e2d025b269"
      },
      "source": [
        "from sketch_plotter import SketchPlotter\n",
        "import json\n",
        "\n",
        "# Load train/test json file \n",
        "with open(train_test_file, 'r') as f:\n",
        "  train_test_json = json.load(f)\n",
        "\n",
        "# Randomly select some ids from the training set\n",
        "n = 2\n",
        "random_train_ids = np.random.choice(train_test_json['train'], n)\n",
        "\n",
        "for id in random_train_ids:\n",
        "  metadata_file = f\"{dataset_path}reconstruction/{id}.json\"\n",
        "  sketches = get_sketches(metadata_file)\n",
        "  draw_sketches(sketches=sketches)"
      ],
      "execution_count": 101,
      "outputs": [
        {
          "output_type": "stream",
          "text": [
            "Warning! -- Curve type SketchFittedSpline is not supported yet\n",
            "Warning! -- Curve type SketchFittedSpline is not supported yet\n"
          ],
          "name": "stdout"
        },
        {
          "output_type": "display_data",
          "data": {
            "image/png": "[encoded data removed]",
            "text/plain": [
              "<Figure size 432x288 with 1 Axes>"
            ]
          },
          "metadata": {
            "tags": [],
            "needs_background": "light"
          }
        },
        {
          "output_type": "display_data",
          "data": {
            "image/png": "[encoded data removed]",
            "text/plain": [
              "<Figure size 432x288 with 1 Axes>"
            ]
          },
          "metadata": {
            "tags": [],
            "needs_background": "light"
          }
        },
        {
          "output_type": "display_data",
          "data": {
            "image/png": "[encoded data removed]",
            "text/plain": [
              "<Figure size 432x288 with 1 Axes>"
            ]
          },
          "metadata": {
            "tags": [],
            "needs_background": "light"
          }
        },
        {
          "output_type": "display_data",
          "data": {
            "image/png": "[encoded data removed]",
            "text/plain": [
              "<Figure size 432x288 with 1 Axes>"
            ]
          },
          "metadata": {
            "tags": [],
            "needs_background": "light"
          }
        }
      ]
    }
  ]
}