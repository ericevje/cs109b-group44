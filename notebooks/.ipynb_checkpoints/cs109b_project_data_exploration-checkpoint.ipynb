{
 "cells": [
  {
   "cell_type": "markdown",
   "metadata": {
    "id": "pCaWC-E4zBlM"
   },
   "source": [
    "## Imports & Setup"
   ]
  },
  {
   "cell_type": "code",
   "execution_count": 1,
   "metadata": {
    "id": "2snnnJxEwRCX"
   },
   "outputs": [],
   "source": [
    "# DO NOT DELETE THIS CELL\n",
    "# Load useful libraries\n",
    "import numpy as np\n",
    "import pandas as pd\n",
    "import zipfile\n",
    "import os\n",
    "import tqdm\n",
    "import pathlib\n",
    "import sys\n",
    "import time\n",
    "from sklearn.model_selection import train_test_split\n",
    "from sklearn.decomposition import PCA\n",
    "from sklearn.manifold import TSNE\n",
    "\n",
    "# TensorFlow and tf.keras\n",
    "import tensorflow as tf\n",
    "from tensorflow.keras import backend as K\n",
    "from tensorflow.keras import layers\n",
    "from tensorflow.keras import models\n",
    "from tensorflow.keras import losses\n",
    "from tensorflow.keras import optimizers\n",
    "from tensorflow.keras import initializers\n",
    "from tensorflow.keras.metrics import Accuracy\n",
    "\n",
    "# Plotting libraries\n",
    "from matplotlib import pyplot as plt\n",
    "from matplotlib.colors import ListedColormap\n",
    "\n",
    "# utility imports\n",
    "import importlib"
   ]
  },
  {
   "cell_type": "code",
   "execution_count": 2,
   "metadata": {
    "colab": {
     "base_uri": "https://localhost:8080/"
    },
    "id": "0T9Inor4wTXM",
    "outputId": "06481777-9219-4819-e03c-5840f1995424"
   },
   "outputs": [
    {
     "data": {
      "text/plain": [
       "[]"
      ]
     },
     "execution_count": 2,
     "metadata": {},
     "output_type": "execute_result"
    }
   ],
   "source": [
    "tf.config.experimental.list_physical_devices('GPU')"
   ]
  },
  {
   "cell_type": "code",
   "execution_count": 2,
   "metadata": {
    "colab": {
     "base_uri": "https://localhost:8080/",
     "height": 17
    },
    "id": "YVADoMqfv-eJ",
    "outputId": "d03c4505-184c-44fa-f5a6-d0acbef49cb7"
   },
   "outputs": [
    {
     "data": {
      "text/html": [
       "<style>\n",
       "blockquote { background: #AEDE94; }\n",
       "h1 { \n",
       "    padding-top: 25px;\n",
       "    padding-bottom: 25px;\n",
       "    text-align: left; \n",
       "    padding-left: 10px;\n",
       "    background-color: #DDDDDD; \n",
       "    color: black;\n",
       "}\n",
       "h2 { \n",
       "    padding-top: 10px;\n",
       "    padding-bottom: 10px;\n",
       "    text-align: left; \n",
       "    padding-left: 5px;\n",
       "    background-color: #EEEEEE; \n",
       "    color: black;\n",
       "}\n",
       "\n",
       "div.exercise {\n",
       "\tbackground-color: #ffcccc;\n",
       "\tborder-color: #E9967A; \t\n",
       "\tborder-left: 5px solid #800080; \n",
       "\tpadding: 0.5em;\n",
       "}\n",
       "\n",
       "div.exercise-r {\n",
       "\tbackground-color: #fce8e8;\n",
       "\tborder-color: #E9967A; \t\n",
       "\tborder-left: 5px solid #800080; \n",
       "\tpadding: 0.5em;\n",
       "}\n",
       "\n",
       "\n",
       "span.sub-q {\n",
       "\tfont-weight: bold;\n",
       "}\n",
       "div.theme {\n",
       "\tbackground-color: #DDDDDD;\n",
       "\tborder-color: #E9967A; \t\n",
       "\tborder-left: 5px solid #800080; \n",
       "\tpadding: 0.5em;\n",
       "\tfont-size: 18pt;\n",
       "}\n",
       "div.gc { \n",
       "\tbackground-color: #AEDE94;\n",
       "\tborder-color: #E9967A; \t \n",
       "\tborder-left: 5px solid #800080; \n",
       "\tpadding: 0.5em;\n",
       "\tfont-size: 12pt;\n",
       "}\n",
       "p.q1 { \n",
       "    padding-top: 5px;\n",
       "    padding-bottom: 5px;\n",
       "    text-align: left; \n",
       "    padding-left: 5px;\n",
       "    background-color: #EEEEEE; \n",
       "    color: black;\n",
       "}\n",
       "header {\n",
       "   padding-top: 35px;\n",
       "    padding-bottom: 35px;\n",
       "    text-align: left; \n",
       "    padding-left: 10px;\n",
       "    background-color: #DDDDDD; \n",
       "    color: black;\n",
       "}\n",
       "</style>\n",
       "\n"
      ],
      "text/plain": [
       "<IPython.core.display.HTML object>"
      ]
     },
     "execution_count": 2,
     "metadata": {},
     "output_type": "execute_result"
    }
   ],
   "source": [
    "import requests\n",
    "from IPython.core.display import HTML, display\n",
    "styles = requests.get(\"https://raw.githubusercontent.com/Harvard-IACS/2018-CS109A/master/content/styles/cs109.css\").text\n",
    "HTML(styles)"
   ]
  },
  {
   "cell_type": "markdown",
   "metadata": {
    "id": "mQFJBAHRzHAu"
   },
   "source": [
    "## Mount Google Drive"
   ]
  },
  {
   "cell_type": "code",
   "execution_count": 7,
   "metadata": {
    "colab": {
     "base_uri": "https://localhost:8080/"
    },
    "id": "UMDnzo8Bvvub",
    "outputId": "c46da959-10e7-4036-b8a0-90e043a0102a"
   },
   "outputs": [],
   "source": [
    "if 'google.colab' in str(get_ipython()):\n",
    "  # Running in Google Colab.\n",
    "  # 1. Mount drive\n",
    "  from google.colab import drive\n",
    "  drive.mount('/content/drive')\n",
    "\n",
    "  # 2. Install a few dependencies\n",
    "  !pip install --upgrade tensorflow-addons tf_keras_vis\n",
    "\n",
    "  # 3. Make sure we can find the data\n",
    "  data_dir = \"/content/drive/MyDrive/cs109b/project/data/\"\n",
    "else:\n",
    "  # 1. Set the data dir for local development\n",
    "  data_dir = \"../r1.0.0/\""
   ]
  },
  {
   "cell_type": "markdown",
   "metadata": {
    "id": "tcrZZpkpzTYY"
   },
   "source": [
    "## Dataset & tools download"
   ]
  },
  {
   "cell_type": "code",
   "execution_count": 35,
   "metadata": {
    "id": "RNML1CxQv7DA"
   },
   "outputs": [],
   "source": [
    "# ##################################################\n",
    "# # Code borrowed from CS109b assignment notebooks #\n",
    "# #            (with mild tweaks)                  #\n",
    "# ##################################################\n",
    "\n",
    "# def download_dataset(    \n",
    "#     url, \n",
    "#     filename,\n",
    "#     filepath,\n",
    "#     dirname,\n",
    "#     dirpath,    \n",
    "#     chunk_size=1204,\n",
    "#     overwrite=False,\n",
    "# ):\n",
    "#     \"\"\"Downloads and extracts CelebA dataset from CS109B S3 bucket\"\"\"\n",
    "#     # Do not download if data already exists and overwrite==False\n",
    "#     if not overwrite and os.path.isdir(dirpath):\n",
    "#         print(\n",
    "#             \"Congratulations...the dataset already exists \"\n",
    "#             \"locally!\\nNo new downloads are required :o)\\n\"\n",
    "#         )\n",
    "#     # Download and extract dataset if it doesn't already exist\n",
    "#     else:\n",
    "#         print(f\"Downloading dataset to {filepath}\\n\")\n",
    "\n",
    "#         with requests.get(url, stream=True) as r:\n",
    "#             chunk_size = 1024\n",
    "#             length = int(r.headers['content-length'])\n",
    "#             print(f\"...downloading a {(length/1e9):.2f} GB file.\"\n",
    "#                 \"This is going to take a while!\"\n",
    "#             )\n",
    "#             time.sleep(0.5)\n",
    "#             with open(filepath, 'wb') as f:\n",
    "#                 for chunk in tqdm.tqdm(\n",
    "#                     r.iter_content(chunk_size=chunk_size),\n",
    "#                     total=int(length/chunk_size),\n",
    "#                     unit=\"KB\"\n",
    "#                 ):\n",
    "#                     f.write(chunk)\n",
    "\n",
    "#         print(f\"...{filename} download complete :o)\")\n",
    "#         if not os.path.isdir(dirpath):\n",
    "#             os.makedirs(dirpath)\n",
    "\n",
    "#         print(\n",
    "#             f\"...extracting {filename}. \\n\"\n",
    "#         )\n",
    "\n",
    "#         with zipfile.ZipFile(filepath, 'r') as zipobj:\n",
    "#             zipobj.extractall(dirpath)\n",
    "\n",
    "#         print(f\"The dataset has been extracted to: \\n\\n\\t{dirpath}\\n\")            "
   ]
  },
  {
   "cell_type": "code",
   "execution_count": 5,
   "metadata": {
    "colab": {
     "base_uri": "https://localhost:8080/"
    },
    "id": "UIwBZTavw1jy",
    "outputId": "b895026d-6e66-4fc4-84fe-0070c2021fcb"
   },
   "outputs": [
    {
     "ename": "NameError",
     "evalue": "name 'data_dir' is not defined",
     "output_type": "error",
     "traceback": [
      "\u001b[0;31m---------------------------------------------------------------------------\u001b[0m",
      "\u001b[0;31mNameError\u001b[0m                                 Traceback (most recent call last)",
      "\u001b[0;32m<timed exec>\u001b[0m in \u001b[0;36m<module>\u001b[0;34m\u001b[0m\n",
      "\u001b[0;31mNameError\u001b[0m: name 'data_dir' is not defined"
     ]
    }
   ],
   "source": [
    "# %%time\n",
    "# working_dir = pathlib.Path().absolute()\n",
    "# os.chdir(working_dir)\n",
    "\n",
    "# # dataset params\n",
    "# dataset_url = \"https://fusion-360-gallery-dataset.s3-us-west-2.amazonaws.com/reconstruction/r1.0.0/r1.0.0.zip\"\n",
    "# filename = \"r1.0.0.zip\"\n",
    "# dirname = f\"{data_dir}reconstruction\"\n",
    "# dirpath = os.path.join(working_dir, dirname)\n",
    "# filepath = os.path.join(working_dir, filename)\n",
    "\n",
    "# download_dataset(dataset_url, filename, filepath, data_dir, dirpath)\n",
    "\n",
    "# # Final locatioin of the dataset\n",
    "# dataset_path = f\"../r1.0.0/\"\n",
    "# train_test_file = f\"{dataset_path}train_test.json\""
   ]
  },
  {
   "cell_type": "code",
   "execution_count": 8,
   "metadata": {},
   "outputs": [],
   "source": [
    "dataset_path = data_dir\n",
    "train_test_file = f\"{dataset_path}train_test.json\""
   ]
  },
  {
   "cell_type": "code",
   "execution_count": 11,
   "metadata": {
    "id": "22vuRj2mzZSb"
   },
   "outputs": [],
   "source": [
    "def download_file(url: str, filepath: str):\n",
    "  dir = os.path.dirname(filepath)\n",
    "  if not os.path.isdir(dir):\n",
    "      os.makedirs(dir)\n",
    "\n",
    "  with requests.get(url, stream=True) as r:      \n",
    "      with open(filepath, 'wb') as f:\n",
    "        f.write(r.content)\n",
    "\n",
    "tools_path = f\"{data_dir}tools/\"\n",
    "download_file(\n",
    "  \"https://raw.githubusercontent.com/AutodeskAILab/Fusion360GalleryDataset/master/tools/sketch2image/sketch_plotter.py\",\n",
    "  f\"{tools_path}sketch_plotter.py\"\n",
    ")      \n",
    "\n",
    "# Append tools directory to path so we can import from it\n",
    "sys.path.append(os.path.abspath(tools_path))"
   ]
  },
  {
   "cell_type": "code",
   "execution_count": 12,
   "metadata": {
    "id": "i8jIMt_qcLOC"
   },
   "outputs": [],
   "source": [
    "def get_sketches(path):\n",
    "  \"\"\" Returns a list of json objects representing sketches\"\"\"\n",
    "  # Load up the data file\n",
    "  with open(metadata_file, 'r') as f:\n",
    "    data_json = json.load(f)\n",
    "  \n",
    "  # The file will contain multiple sketches, so pull the ids ...\n",
    "  entity_ids = list(data_json['entities'].keys())\n",
    "\n",
    "  # not all entities will be sketches, so filter ... \n",
    "  sketch_ids = [id for id in entity_ids if data_json['entities'][id][\"type\"] == \"Sketch\"]\n",
    "\n",
    "  return [data_json['entities'][id] for id in sketch_ids]\n",
    "\n",
    "def draw_sketches(sketches):\n",
    "  \"\"\" Draws the given sketches \"\"\"\n",
    "  for sketch in sketches:\n",
    "    plotter = SketchPlotter(sketch)\n",
    "    try:\n",
    "      plotter.create_drawing()\n",
    "    except KeyError:\n",
    "      continue"
   ]
  },
  {
   "cell_type": "code",
   "execution_count": 13,
   "metadata": {
    "colab": {
     "base_uri": "https://localhost:8080/",
     "height": 976
    },
    "id": "aXXboFwlwytK",
    "outputId": "02d1f8af-09c2-414f-9a58-c5e2d025b269",
    "scrolled": false
   },
   "outputs": [
    {
     "data": {
      "image/png": "[encoded data removed]",
      "text/plain": [
       "<Figure size 432x288 with 1 Axes>"
      ]
     },
     "metadata": {
      "needs_background": "light"
     },
     "output_type": "display_data"
    },
    {
     "data": {
      "image/png": "[encoded data removed]",
      "text/plain": [
       "<Figure size 432x288 with 1 Axes>"
      ]
     },
     "metadata": {
      "needs_background": "light"
     },
     "output_type": "display_data"
    },
    {
     "data": {
      "image/png": "[encoded data removed]",
      "text/plain": [
       "<Figure size 432x288 with 1 Axes>"
      ]
     },
     "metadata": {
      "needs_background": "light"
     },
     "output_type": "display_data"
    },
    {
     "data": {
      "image/png": "[encoded data removed]",
      "text/plain": [
       "<Figure size 432x288 with 1 Axes>"
      ]
     },
     "metadata": {
      "needs_background": "light"
     },
     "output_type": "display_data"
    },
    {
     "data": {
      "image/png": "[encoded data removed]",
      "text/plain": [
       "<Figure size 432x288 with 1 Axes>"
      ]
     },
     "metadata": {
      "needs_background": "light"
     },
     "output_type": "display_data"
    },
    {
     "data": {
      "image/png": "[encoded data removed]",
      "text/plain": [
       "<Figure size 432x288 with 1 Axes>"
      ]
     },
     "metadata": {
      "needs_background": "light"
     },
     "output_type": "display_data"
    },
    {
     "data": {
      "image/png": "[encoded data removed]",
      "text/plain": [
       "<Figure size 432x288 with 1 Axes>"
      ]
     },
     "metadata": {
      "needs_background": "light"
     },
     "output_type": "display_data"
    },
    {
     "data": {
      "image/png": "[encoded data removed]",
      "text/plain": [
       "<Figure size 432x288 with 1 Axes>"
      ]
     },
     "metadata": {
      "needs_background": "light"
     },
     "output_type": "display_data"
    },
    {
     "data": {
      "image/png": "[encoded data removed]",
      "text/plain": [
       "<Figure size 432x288 with 1 Axes>"
      ]
     },
     "metadata": {
      "needs_background": "light"
     },
     "output_type": "display_data"
    }
   ],
   "source": [
    "from sketch_plotter import SketchPlotter\n",
    "import json\n",
    "\n",
    "# Load train/test json file \n",
    "with open(train_test_file, 'r') as f:\n",
    "  train_test_json = json.load(f)\n",
    "\n",
    "# Randomly select some ids from the training set\n",
    "n = 2\n",
    "random_train_ids = np.random.choice(train_test_json['train'], n)\n",
    "\n",
    "for id in random_train_ids:\n",
    "  metadata_file = f\"{dataset_path}reconstruction/{id}.json\"\n",
    "  sketches = get_sketches(metadata_file)\n",
    "  draw_sketches(sketches=sketches)"
   ]
  },
  {
   "cell_type": "code",
   "execution_count": 75,
   "metadata": {},
   "outputs": [],
   "source": [
    "# Iterate through json files in reconstruction folder (training set only)\n",
    "train_test_file = f\"{dataset_path}train_test.json\"\n",
    "\n",
    "# Return lists containing the train and test filenames\n",
    "def get_json_train_test(file):\n",
    "    training_list = []\n",
    "    test_list = []\n",
    "    with open(file, 'r') as f:\n",
    "        train_test_json = json.load(f)\n",
    "        training_list = train_test_json['train']\n",
    "        test_list = train_test_json['test']\n",
    "    return training_list, test_list\n",
    "\n",
    "# Return dataframe with summaries from json files\n",
    "def summary_df(json_list):\n",
    "    dict_to_df = {'parent_project': [],\n",
    "                 'component_index': [],\n",
    "                 'part_uuid':       [],\n",
    "                 'num_sketches':    [],\n",
    "                 'num_extrudes':    [],\n",
    "                 'operation_order': []}\n",
    "    for file in json_list:\n",
    "        filepath = f\"{dataset_path}/reconstruction/{file}.json\"\n",
    "        try:\n",
    "            with open(filepath, 'r') as f:\n",
    "                json_file = json.load(f)\n",
    "                dict_to_df['parent_project'].append(json_file['metadata']['parent_project'])\n",
    "                dict_to_df['component_index'].append(json_file['metadata']['component_index'])\n",
    "                dict_to_df['part_uuid'].append(file)\n",
    "                entities = json_file['entities']\n",
    "                num_sketches = 0\n",
    "                num_extrudes = 0\n",
    "                operations = []\n",
    "                for entity in entities:\n",
    "                    entity_type = json_file['entities'][entity]['type']\n",
    "                    num_sketches += 1 if entity_type == 'Sketch' else 0\n",
    "                    num_extrudes += 1 if entity_type == 'ExtrudeFeature' else 0\n",
    "                    if entity_type == 'ExtrudeFeature':\n",
    "                        operation = json_file['entities'][entity]['operation']\n",
    "                        operations.append(operation)\n",
    "                dict_to_df['num_sketches'].append(num_sketches)\n",
    "                dict_to_df['num_extrudes'].append(num_extrudes)\n",
    "                dict_to_df['operation_order'].append(operations)\n",
    "        except FileNotFoundError:\n",
    "            print(\"{} not found\".format(filepath))\n",
    "    df = pd.DataFrame(dict_to_df)\n",
    "    return df"
   ]
  },
  {
   "cell_type": "code",
   "execution_count": 71,
   "metadata": {},
   "outputs": [],
   "source": [
    "training_list, test_list = get_json_train_test(train_test_file)"
   ]
  },
  {
   "cell_type": "code",
   "execution_count": 76,
   "metadata": {},
   "outputs": [],
   "source": [
    "df_summary_train = summary_df(training_list)"
   ]
  },
  {
   "cell_type": "code",
   "execution_count": 77,
   "metadata": {
    "scrolled": true
   },
   "outputs": [
    {
     "data": {
      "text/html": [
       "<div>\n",
       "<style scoped>\n",
       "    .dataframe tbody tr th:only-of-type {\n",
       "        vertical-align: middle;\n",
       "    }\n",
       "\n",
       "    .dataframe tbody tr th {\n",
       "        vertical-align: top;\n",
       "    }\n",
       "\n",
       "    .dataframe thead th {\n",
       "        text-align: right;\n",
       "    }\n",
       "</style>\n",
       "<table border=\"1\" class=\"dataframe\">\n",
       "  <thead>\n",
       "    <tr style=\"text-align: right;\">\n",
       "      <th></th>\n",
       "      <th>parent_project</th>\n",
       "      <th>component_index</th>\n",
       "      <th>part_uuid</th>\n",
       "      <th>num_sketches</th>\n",
       "      <th>num_extrudes</th>\n",
       "      <th>operation_order</th>\n",
       "    </tr>\n",
       "  </thead>\n",
       "  <tbody>\n",
       "    <tr>\n",
       "      <th>0</th>\n",
       "      <td>133248_c7255340</td>\n",
       "      <td>0</td>\n",
       "      <td>133248_c7255340_0000</td>\n",
       "      <td>1</td>\n",
       "      <td>2</td>\n",
       "      <td>[NewBodyFeatureOperation, JoinFeatureOperation]</td>\n",
       "    </tr>\n",
       "    <tr>\n",
       "      <th>1</th>\n",
       "      <td>51022_47816098</td>\n",
       "      <td>3</td>\n",
       "      <td>51022_47816098_0003</td>\n",
       "      <td>2</td>\n",
       "      <td>2</td>\n",
       "      <td>[NewBodyFeatureOperation, CutFeatureOperation]</td>\n",
       "    </tr>\n",
       "    <tr>\n",
       "      <th>2</th>\n",
       "      <td>127202_42451722</td>\n",
       "      <td>0</td>\n",
       "      <td>127202_42451722_0000</td>\n",
       "      <td>2</td>\n",
       "      <td>1</td>\n",
       "      <td>[NewBodyFeatureOperation]</td>\n",
       "    </tr>\n",
       "    <tr>\n",
       "      <th>3</th>\n",
       "      <td>55928_1ccd0821</td>\n",
       "      <td>2</td>\n",
       "      <td>55928_1ccd0821_0002</td>\n",
       "      <td>1</td>\n",
       "      <td>1</td>\n",
       "      <td>[NewBodyFeatureOperation]</td>\n",
       "    </tr>\n",
       "    <tr>\n",
       "      <th>4</th>\n",
       "      <td>34436_ffc43a58</td>\n",
       "      <td>0</td>\n",
       "      <td>34436_ffc43a58_0000</td>\n",
       "      <td>2</td>\n",
       "      <td>1</td>\n",
       "      <td>[NewBodyFeatureOperation]</td>\n",
       "    </tr>\n",
       "  </tbody>\n",
       "</table>\n",
       "</div>"
      ],
      "text/plain": [
       "    parent_project  component_index             part_uuid  num_sketches  \\\n",
       "0  133248_c7255340                0  133248_c7255340_0000             1   \n",
       "1   51022_47816098                3   51022_47816098_0003             2   \n",
       "2  127202_42451722                0  127202_42451722_0000             2   \n",
       "3   55928_1ccd0821                2   55928_1ccd0821_0002             1   \n",
       "4   34436_ffc43a58                0   34436_ffc43a58_0000             2   \n",
       "\n",
       "   num_extrudes                                  operation_order  \n",
       "0             2  [NewBodyFeatureOperation, JoinFeatureOperation]  \n",
       "1             2   [NewBodyFeatureOperation, CutFeatureOperation]  \n",
       "2             1                        [NewBodyFeatureOperation]  \n",
       "3             1                        [NewBodyFeatureOperation]  \n",
       "4             1                        [NewBodyFeatureOperation]  "
      ]
     },
     "execution_count": 77,
     "metadata": {},
     "output_type": "execute_result"
    }
   ],
   "source": [
    "df_summary.head()"
   ]
  }
 ],
 "metadata": {
  "colab": {
   "collapsed_sections": [],
   "name": "cs109b-project-data-exploration.ipynb",
   "provenance": [],
   "toc_visible": true
  },
  "kernelspec": {
   "display_name": "cs109b",
   "language": "python",
   "name": "cs109b"
  },
  "language_info": {
   "codemirror_mode": {
    "name": "ipython",
    "version": 3
   },
   "file_extension": ".py",
   "mimetype": "text/x-python",
   "name": "python",
   "nbconvert_exporter": "python",
   "pygments_lexer": "ipython3",
   "version": "3.8.8"
  }
 },
 "nbformat": 4,
 "nbformat_minor": 1
}
