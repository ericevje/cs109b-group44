{
 "cells": [
  {
   "cell_type": "markdown",
   "id": "c4393fea",
   "metadata": {},
   "source": [
    "## Top Down Modeling Process"
   ]
  },
  {
   "cell_type": "markdown",
   "id": "7450c1d2",
   "metadata": {},
   "source": [
    "The original $Reconstruction$ search feature begins the search space with an empty graph, building up the body from $NewBodyFeatureOperation$, $JoinFeatureOperation$, $CutFeatureOperation$, or $IntersectFeatureOperation$. The search space is originally restricted to $NewBodyFeatureOperation$ since the other operations are not possible on an empty graph. "
   ]
  },
  {
   "cell_type": "markdown",
   "id": "53b231e9",
   "metadata": {},
   "source": [
    "<p float=\"left\"> \n",
    "  <img src=\"images/best_search_1.png\" style=\"display:inline;margin:1px;height:300px\" /> \n",
    "  <img src=\"images/best_search_2.png\" style=\"display:inline;margin:1px;height:300px\" />  \n",
    "  <img src=\"images/best_search_3.png\" style=\"display:inline;margin:1px;height:300px\" /> \n",
    "</p>\n",
    "\n",
    "<center> Example face extrusion process for original best_search process </center>"
   ]
  },
  {
   "cell_type": "markdown",
   "id": "b017d12f",
   "metadata": {},
   "source": [
    "### Simulating manufacturing processes in design\n",
    "\n",
    "#### Overview\n",
    "\n",
    "There are 2 umbrellas of manufacturing for manufactured parts, additive manufacturing and subtractive manufacturing. Additive manufacturing, such as injection molding and 3D printing, *add* material to create a solid object. Opposite of this is machining, which starts with a block of materials and *subtracts* material to create the final design. Additive manufacturing is like working with clay, whereas subtractive manufacturing is like working with a granite block and chisel. \n",
    "\n",
    "Good design practices recommend designing your part in the way that it will be manufactured. If a part is to be manufactured via a subtractive manufacturing process, it is best practice to start your model as a block of material and cut away material. This allows the designer to visualize and optimize the design for the manufcaturing process and allows for easier editing of the design later on. \n",
    "\n",
    "The search feature implemented in the $Search$ class and its children start with a blank graph and *add* bodies to form the design. Though its possible for the agent to choose to extrude a bounding box then cut away to the target, it is not guaranteed, and typically not what happens. Further, due to the limitations imposed by the message passing network, namely the fact it returns 2 faces and an operation, as well the rules imposed on the agent (namely the faces must be parallel) there are several more complex shapes that it completely fails at making. Essentially, if there is a face with no parallel faces it canot be created. See examples below of a shape the agent fails to reconstruct. \n",
    "\n",
    "<p float=\"center\"> \n",
    "  <img src=\"images/77211_d46ae17d_0013.png\" style=\"height:300px\"/> \n",
    "</p>\n",
    "\n",
    "<center> Pyramidal face with no parallel faces fails to be reconstructed </center>\n",
    "\n",
    "Looking into the ground truth of the above model, it is apparent that the final model was formed from a bounding box, then two extrude cut operations were used to complete the shape. Since the final cuts go all the way through the model, there are no parallel faces for the agent to complete a face extrusion. \n",
    "\n",
    "<p float=\"left\"> \n",
    "  <img src=\"images/77211_d46ae17d_0013_0112.png\" style=\"display:inline;margin:1px;height:300px\" /> \n",
    "  <img src=\"images/77211_d46ae17d_0013_0116.png\" style=\"display:inline;margin:1px;height:300px\" />  \n",
    "  <img src=\"images/77211_d46ae17d_0013.png\" style=\"display:inline;margin:1px;height:300px\" /> \n",
    "</p>\n",
    "\n",
    "<center> Extrusion steps to recreate the solid object </center>\n",
    "\n",
    "This particular model fails the search algorithm due to the parallel face limitation of face extrusions. If we were able to start with the bounding box and cut away to reveal the model, however, this could be reconstructed using the existing framework of the search algorithm.\n",
    "\n",
    "#### Implementation\n",
    "\n",
    "To implement this, we needed to modify the search algorithm to add a bounding box before each "
   ]
  },
  {
   "cell_type": "code",
   "execution_count": 57,
   "id": "9f4829ca",
   "metadata": {},
   "outputs": [],
   "source": [
    "import pandas as pd\n",
    "import numpy as np\n",
    "import matplotlib.pyplot as plt\n",
    "import seaborn as sns\n",
    "import json\n",
    "\n",
    "import sys\n",
    "import os\n",
    "from IPython.core.display import display, HTML, Image"
   ]
  },
  {
   "cell_type": "code",
   "execution_count": 37,
   "id": "720581d5",
   "metadata": {},
   "outputs": [],
   "source": [
    "control_log = \"../tools/search/log/\"\n",
    "bounded_log = \"../tools/search/log_bounded/\""
   ]
  },
  {
   "cell_type": "code",
   "execution_count": 38,
   "id": "c63cb7f9",
   "metadata": {},
   "outputs": [],
   "source": [
    "control_directories = os.listdir(path=control_log)\n",
    "bounded_directories = os.listdir(path=bounded_log)"
   ]
  },
  {
   "cell_type": "code",
   "execution_count": 39,
   "id": "671ef8ce",
   "metadata": {},
   "outputs": [
    {
     "data": {
      "text/plain": [
       "['54077_dd26efde_0000',\n",
       " '33967_0741e236_0002',\n",
       " '142764_e4f86a3b_0000',\n",
       " '77211_d46ae17d_0013',\n",
       " '.DS_Store',\n",
       " '30246_6e835e6d_0001',\n",
       " '41026_295d1dc8_0003',\n",
       " '41234_74275eb0_0009',\n",
       " '22457_a6c2776f_0008',\n",
       " '27839_4a077326_0010',\n",
       " '65211_73eab9de_0000',\n",
       " 'search_results.json',\n",
       " '22432_e4a51ee9_0006']"
      ]
     },
     "execution_count": 39,
     "metadata": {},
     "output_type": "execute_result"
    }
   ],
   "source": [
    "bounded_directories"
   ]
  },
  {
   "cell_type": "code",
   "execution_count": 40,
   "id": "cd2982a1",
   "metadata": {},
   "outputs": [],
   "source": [
    "dict_df = {'uuid': [],\n",
    "             'used_budget': [],\n",
    "             'max_iou': [],\n",
    "             'exact': [],\n",
    "             'bounded': [],\n",
    "              'feature_operation': []}"
   ]
  },
  {
   "cell_type": "code",
   "execution_count": 41,
   "id": "ab5e86a9",
   "metadata": {},
   "outputs": [
    {
     "name": "stdout",
     "output_type": "stream",
     "text": [
      ".DS_Store is not a directory\n",
      "search_results.json is not a directory\n",
      ".DS_Store is not a directory\n",
      "search_results.json is not a directory\n"
     ]
    }
   ],
   "source": [
    "bounded = False\n",
    "for directory in control_directories:\n",
    "    # Return all files within directory\n",
    "    try:\n",
    "        files = os.listdir(os.path.join(control_log, directory))\n",
    "        for file in files:\n",
    "            if file.endswith('.json'):\n",
    "                with open(os.path.join(control_log, directory, file), 'r') as f:\n",
    "                    f = json.load(f)\n",
    "                    dict_df['uuid'].append(directory)\n",
    "                    dict_df['used_budget'].append(f[-1]['used_budget'])\n",
    "                    dict_df['max_iou'].append(f[-1]['max_iou'])\n",
    "                    dict_df['exact'].append(True if f[-1]['max_iou'] > 0.99999999 else False)\n",
    "                    dict_df['bounded'].append(bounded)\n",
    "    except NotADirectoryError:\n",
    "        print(\"{} is not a directory\".format(directory))\n",
    "        \n",
    "bounded = True\n",
    "for directory in bounded_directories:\n",
    "    # Return all files within directory\n",
    "    try:\n",
    "        files = os.listdir(os.path.join(bounded_log, directory))\n",
    "        for file in files:\n",
    "            if file.endswith('.json'):\n",
    "                with open(os.path.join(bounded_log, directory, file), 'r') as f:\n",
    "                    f = json.load(f)\n",
    "                    dict_df['uuid'].append(directory)\n",
    "                    dict_df['used_budget'].append(f[-1]['used_budget'])\n",
    "                    dict_df['max_iou'].append(f[-1]['max_iou'])\n",
    "                    dict_df['exact'].append(True if f[-1]['max_iou'] > 0.99999999 else False)\n",
    "                    dict_df['bounded'].append(bounded)\n",
    "    except NotADirectoryError:\n",
    "        print(\"{} is not a directory\".format(directory))"
   ]
  },
  {
   "cell_type": "code",
   "execution_count": 42,
   "id": "c6911510",
   "metadata": {},
   "outputs": [
    {
     "data": {
      "text/plain": [
       "{'uuid': ['54077_dd26efde_0000',\n",
       "  '33967_0741e236_0002',\n",
       "  '142764_e4f86a3b_0000',\n",
       "  '77211_d46ae17d_0013',\n",
       "  '30246_6e835e6d_0001',\n",
       "  '41026_295d1dc8_0003',\n",
       "  '41234_74275eb0_0009',\n",
       "  '22457_a6c2776f_0008',\n",
       "  '27839_4a077326_0010',\n",
       "  '65211_73eab9de_0000',\n",
       "  '22432_e4a51ee9_0006',\n",
       "  '54077_dd26efde_0000',\n",
       "  '33967_0741e236_0002',\n",
       "  '142764_e4f86a3b_0000',\n",
       "  '77211_d46ae17d_0013',\n",
       "  '30246_6e835e6d_0001',\n",
       "  '41026_295d1dc8_0003',\n",
       "  '41234_74275eb0_0009',\n",
       "  '22457_a6c2776f_0008',\n",
       "  '27839_4a077326_0010',\n",
       "  '65211_73eab9de_0000',\n",
       "  '22432_e4a51ee9_0006'],\n",
       " 'used_budget': [20,\n",
       "  2,\n",
       "  1,\n",
       "  20,\n",
       "  5,\n",
       "  1,\n",
       "  8,\n",
       "  1,\n",
       "  1,\n",
       "  20,\n",
       "  20,\n",
       "  20,\n",
       "  20,\n",
       "  20,\n",
       "  20,\n",
       "  20,\n",
       "  20,\n",
       "  20,\n",
       "  20,\n",
       "  20,\n",
       "  20,\n",
       "  20],\n",
       " 'max_iou': [0.8885589429711583,\n",
       "  1.0,\n",
       "  1.0,\n",
       "  0,\n",
       "  1.0,\n",
       "  1.0,\n",
       "  1.0,\n",
       "  1.0,\n",
       "  1.0,\n",
       "  0.9996491787019813,\n",
       "  0.8846035521300826,\n",
       "  0.056893078284160514,\n",
       "  0.1866434059880256,\n",
       "  0,\n",
       "  0,\n",
       "  0.5745608575960637,\n",
       "  0,\n",
       "  0.7699510644313011,\n",
       "  0,\n",
       "  0,\n",
       "  0.9436155308507842,\n",
       "  0.7037559354410343],\n",
       " 'exact': [False,\n",
       "  True,\n",
       "  True,\n",
       "  False,\n",
       "  True,\n",
       "  True,\n",
       "  True,\n",
       "  True,\n",
       "  True,\n",
       "  False,\n",
       "  False,\n",
       "  False,\n",
       "  False,\n",
       "  False,\n",
       "  False,\n",
       "  False,\n",
       "  False,\n",
       "  False,\n",
       "  False,\n",
       "  False,\n",
       "  False,\n",
       "  False],\n",
       " 'bounded': [False,\n",
       "  False,\n",
       "  False,\n",
       "  False,\n",
       "  False,\n",
       "  False,\n",
       "  False,\n",
       "  False,\n",
       "  False,\n",
       "  False,\n",
       "  False,\n",
       "  True,\n",
       "  True,\n",
       "  True,\n",
       "  True,\n",
       "  True,\n",
       "  True,\n",
       "  True,\n",
       "  True,\n",
       "  True,\n",
       "  True,\n",
       "  True]}"
      ]
     },
     "execution_count": 42,
     "metadata": {},
     "output_type": "execute_result"
    }
   ],
   "source": [
    "dict_df"
   ]
  },
  {
   "cell_type": "code",
   "execution_count": 43,
   "id": "c2c6cdf5",
   "metadata": {},
   "outputs": [
    {
     "data": {
      "text/html": [
       "<div>\n",
       "<style scoped>\n",
       "    .dataframe tbody tr th:only-of-type {\n",
       "        vertical-align: middle;\n",
       "    }\n",
       "\n",
       "    .dataframe tbody tr th {\n",
       "        vertical-align: top;\n",
       "    }\n",
       "\n",
       "    .dataframe thead th {\n",
       "        text-align: right;\n",
       "    }\n",
       "</style>\n",
       "<table border=\"1\" class=\"dataframe\">\n",
       "  <thead>\n",
       "    <tr style=\"text-align: right;\">\n",
       "      <th></th>\n",
       "      <th>uuid</th>\n",
       "      <th>used_budget</th>\n",
       "      <th>max_iou</th>\n",
       "      <th>exact</th>\n",
       "      <th>bounded</th>\n",
       "    </tr>\n",
       "  </thead>\n",
       "  <tbody>\n",
       "    <tr>\n",
       "      <th>17</th>\n",
       "      <td>41234_74275eb0_0009</td>\n",
       "      <td>20</td>\n",
       "      <td>0.769951</td>\n",
       "      <td>False</td>\n",
       "      <td>True</td>\n",
       "    </tr>\n",
       "    <tr>\n",
       "      <th>18</th>\n",
       "      <td>22457_a6c2776f_0008</td>\n",
       "      <td>20</td>\n",
       "      <td>0.000000</td>\n",
       "      <td>False</td>\n",
       "      <td>True</td>\n",
       "    </tr>\n",
       "    <tr>\n",
       "      <th>19</th>\n",
       "      <td>27839_4a077326_0010</td>\n",
       "      <td>20</td>\n",
       "      <td>0.000000</td>\n",
       "      <td>False</td>\n",
       "      <td>True</td>\n",
       "    </tr>\n",
       "    <tr>\n",
       "      <th>20</th>\n",
       "      <td>65211_73eab9de_0000</td>\n",
       "      <td>20</td>\n",
       "      <td>0.943616</td>\n",
       "      <td>False</td>\n",
       "      <td>True</td>\n",
       "    </tr>\n",
       "    <tr>\n",
       "      <th>21</th>\n",
       "      <td>22432_e4a51ee9_0006</td>\n",
       "      <td>20</td>\n",
       "      <td>0.703756</td>\n",
       "      <td>False</td>\n",
       "      <td>True</td>\n",
       "    </tr>\n",
       "  </tbody>\n",
       "</table>\n",
       "</div>"
      ],
      "text/plain": [
       "                   uuid  used_budget   max_iou  exact  bounded\n",
       "17  41234_74275eb0_0009           20  0.769951  False     True\n",
       "18  22457_a6c2776f_0008           20  0.000000  False     True\n",
       "19  27839_4a077326_0010           20  0.000000  False     True\n",
       "20  65211_73eab9de_0000           20  0.943616  False     True\n",
       "21  22432_e4a51ee9_0006           20  0.703756  False     True"
      ]
     },
     "execution_count": 43,
     "metadata": {},
     "output_type": "execute_result"
    }
   ],
   "source": [
    "df = pd.DataFrame(dict_df)\n",
    "df.tail()"
   ]
  },
  {
   "cell_type": "code",
   "execution_count": 47,
   "id": "dc889f56",
   "metadata": {},
   "outputs": [
    {
     "data": {
      "text/html": [
       "<div>\n",
       "<style scoped>\n",
       "    .dataframe tbody tr th:only-of-type {\n",
       "        vertical-align: middle;\n",
       "    }\n",
       "\n",
       "    .dataframe tbody tr th {\n",
       "        vertical-align: top;\n",
       "    }\n",
       "\n",
       "    .dataframe thead th {\n",
       "        text-align: right;\n",
       "    }\n",
       "</style>\n",
       "<table border=\"1\" class=\"dataframe\">\n",
       "  <thead>\n",
       "    <tr style=\"text-align: right;\">\n",
       "      <th></th>\n",
       "      <th>count</th>\n",
       "      <th>mean</th>\n",
       "      <th>std</th>\n",
       "      <th>min</th>\n",
       "      <th>25%</th>\n",
       "      <th>50%</th>\n",
       "      <th>75%</th>\n",
       "      <th>max</th>\n",
       "    </tr>\n",
       "    <tr>\n",
       "      <th>bounded</th>\n",
       "      <th></th>\n",
       "      <th></th>\n",
       "      <th></th>\n",
       "      <th></th>\n",
       "      <th></th>\n",
       "      <th></th>\n",
       "      <th></th>\n",
       "      <th></th>\n",
       "    </tr>\n",
       "  </thead>\n",
       "  <tbody>\n",
       "    <tr>\n",
       "      <th>False</th>\n",
       "      <td>11.0</td>\n",
       "      <td>0.888437</td>\n",
       "      <td>0.298132</td>\n",
       "      <td>0.0</td>\n",
       "      <td>0.944104</td>\n",
       "      <td>1.000000</td>\n",
       "      <td>1.000000</td>\n",
       "      <td>1.000000</td>\n",
       "    </tr>\n",
       "    <tr>\n",
       "      <th>True</th>\n",
       "      <td>11.0</td>\n",
       "      <td>0.294129</td>\n",
       "      <td>0.373506</td>\n",
       "      <td>0.0</td>\n",
       "      <td>0.000000</td>\n",
       "      <td>0.056893</td>\n",
       "      <td>0.639158</td>\n",
       "      <td>0.943616</td>\n",
       "    </tr>\n",
       "  </tbody>\n",
       "</table>\n",
       "</div>"
      ],
      "text/plain": [
       "         count      mean       std  min       25%       50%       75%  \\\n",
       "bounded                                                                 \n",
       "False     11.0  0.888437  0.298132  0.0  0.944104  1.000000  1.000000   \n",
       "True      11.0  0.294129  0.373506  0.0  0.000000  0.056893  0.639158   \n",
       "\n",
       "              max  \n",
       "bounded            \n",
       "False    1.000000  \n",
       "True     0.943616  "
      ]
     },
     "execution_count": 47,
     "metadata": {},
     "output_type": "execute_result"
    }
   ],
   "source": [
    "df.groupby(by='bounded')['max_iou'].describe()"
   ]
  },
  {
   "cell_type": "code",
   "execution_count": 48,
   "id": "1bc5610c",
   "metadata": {},
   "outputs": [
    {
     "data": {
      "text/html": [
       "<div>\n",
       "<style scoped>\n",
       "    .dataframe tbody tr th:only-of-type {\n",
       "        vertical-align: middle;\n",
       "    }\n",
       "\n",
       "    .dataframe tbody tr th {\n",
       "        vertical-align: top;\n",
       "    }\n",
       "\n",
       "    .dataframe thead th {\n",
       "        text-align: right;\n",
       "    }\n",
       "</style>\n",
       "<table border=\"1\" class=\"dataframe\">\n",
       "  <thead>\n",
       "    <tr style=\"text-align: right;\">\n",
       "      <th></th>\n",
       "      <th>count</th>\n",
       "      <th>mean</th>\n",
       "      <th>std</th>\n",
       "      <th>min</th>\n",
       "      <th>25%</th>\n",
       "      <th>50%</th>\n",
       "      <th>75%</th>\n",
       "      <th>max</th>\n",
       "    </tr>\n",
       "    <tr>\n",
       "      <th>bounded</th>\n",
       "      <th></th>\n",
       "      <th></th>\n",
       "      <th></th>\n",
       "      <th></th>\n",
       "      <th></th>\n",
       "      <th></th>\n",
       "      <th></th>\n",
       "      <th></th>\n",
       "    </tr>\n",
       "  </thead>\n",
       "  <tbody>\n",
       "    <tr>\n",
       "      <th>False</th>\n",
       "      <td>11.0</td>\n",
       "      <td>9.0</td>\n",
       "      <td>8.97775</td>\n",
       "      <td>1.0</td>\n",
       "      <td>1.0</td>\n",
       "      <td>5.0</td>\n",
       "      <td>20.0</td>\n",
       "      <td>20.0</td>\n",
       "    </tr>\n",
       "    <tr>\n",
       "      <th>True</th>\n",
       "      <td>11.0</td>\n",
       "      <td>20.0</td>\n",
       "      <td>0.00000</td>\n",
       "      <td>20.0</td>\n",
       "      <td>20.0</td>\n",
       "      <td>20.0</td>\n",
       "      <td>20.0</td>\n",
       "      <td>20.0</td>\n",
       "    </tr>\n",
       "  </tbody>\n",
       "</table>\n",
       "</div>"
      ],
      "text/plain": [
       "         count  mean      std   min   25%   50%   75%   max\n",
       "bounded                                                    \n",
       "False     11.0   9.0  8.97775   1.0   1.0   5.0  20.0  20.0\n",
       "True      11.0  20.0  0.00000  20.0  20.0  20.0  20.0  20.0"
      ]
     },
     "execution_count": 48,
     "metadata": {},
     "output_type": "execute_result"
    }
   ],
   "source": [
    "df.groupby(by='bounded')['used_budget'].describe()"
   ]
  },
  {
   "cell_type": "code",
   "execution_count": 45,
   "id": "b54ac2e2",
   "metadata": {},
   "outputs": [
    {
     "name": "stderr",
     "output_type": "stream",
     "text": [
      "/opt/anaconda3/envs/final_project_env/lib/python3.7/site-packages/seaborn/distributions.py:2557: FutureWarning: `distplot` is a deprecated function and will be removed in a future version. Please adapt your code to use either `displot` (a figure-level function with similar flexibility) or `histplot` (an axes-level function for histograms).\n",
      "  warnings.warn(msg, FutureWarning)\n",
      "/opt/anaconda3/envs/final_project_env/lib/python3.7/site-packages/seaborn/distributions.py:2557: FutureWarning: `distplot` is a deprecated function and will be removed in a future version. Please adapt your code to use either `displot` (a figure-level function with similar flexibility) or `histplot` (an axes-level function for histograms).\n",
      "  warnings.warn(msg, FutureWarning)\n"
     ]
    },
    {
     "data": {
      "image/png": "[encoded data removed]",
      "text/plain": [
       "<Figure size 432x288 with 1 Axes>"
      ]
     },
     "metadata": {
      "needs_background": "light"
     },
     "output_type": "display_data"
    }
   ],
   "source": [
    "fig, ax = plt.subplots()\n",
    "sns.distplot(df.loc[df['bounded']==True]['max_iou'])\n",
    "sns.distplot(df.loc[df['bounded']==False]['max_iou'])\n",
    "plt.show()"
   ]
  },
  {
   "cell_type": "code",
   "execution_count": null,
   "id": "1103c17b",
   "metadata": {},
   "outputs": [],
   "source": []
  }
 ],
 "metadata": {
  "kernelspec": {
   "display_name": "final_project_env",
   "language": "python",
   "name": "final_project_env"
  },
  "language_info": {
   "codemirror_mode": {
    "name": "ipython",
    "version": 3
   },
   "file_extension": ".py",
   "mimetype": "text/x-python",
   "name": "python",
   "nbconvert_exporter": "python",
   "pygments_lexer": "ipython3",
   "version": "3.7.10"
  }
 },
 "nbformat": 4,
 "nbformat_minor": 5
}
